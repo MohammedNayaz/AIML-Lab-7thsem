{
 "cells": [
  {
   "cell_type": "markdown",
   "id": "3f8ddac6",
   "metadata": {},
   "source": [
    "# k-Means algorithm"
   ]
  },
  {
   "cell_type": "code",
   "execution_count": 1,
   "id": "1a4f2995",
   "metadata": {},
   "outputs": [],
   "source": [
    "import numpy as np\n",
    "from sklearn.cluster import KMeans\n",
    "import matplotlib.pyplot as plt\n",
    "from sklearn.mixture import GaussianMixture\n",
    "import pandas as pd"
   ]
  },
  {
   "cell_type": "code",
   "execution_count": 3,
   "id": "210a8d35",
   "metadata": {},
   "outputs": [
    {
     "data": {
      "image/png": "[encoded data removed]",
      "text/plain": [
       "<Figure size 432x288 with 1 Axes>"
      ]
     },
     "metadata": {
      "needs_background": "light"
     },
     "output_type": "display_data"
    }
   ],
   "source": [
    "X=pd.read_csv(\"program5.csv\")\n",
    "x1 = X['V1'].values\n",
    "x2 = X['V2'].values\n",
    "X = np.array(list(zip(x1, x2))).reshape(len(x1), 2)\n",
    "plt.plot()\n",
    "plt.xlim([0, 100])\n",
    "plt.ylim([0, 50])\n",
    "plt.title('Dataset')\n",
    "plt.scatter(x1, x2)\n",
    "plt.show()"
   ]
  },
  {
   "cell_type": "code",
   "execution_count": 5,
   "id": "8203bc2f",
   "metadata": {},
   "outputs": [
    {
     "name": "stdout",
     "output_type": "stream",
     "text": [
      "\n",
      "EM predictions\n",
      "[2 2 0 2 1 2 1 0 1 2 0 0 2 2 1 0 2 1 0 1 2]\n",
      "mean:\n",
      " [[ 3.87004698 16.19467857]\n",
      " [14.03598519  0.7258207 ]\n",
      " [10.93962489  9.54606718]]\n",
      "\n",
      "\n",
      "Covariances\n",
      " [[[ 17.14601232  30.4406603 ]\n",
      "  [ 30.4406603   76.55265727]]\n",
      "\n",
      " [[ 99.34162937   5.04919157]\n",
      "  [  5.04919157   9.32933094]]\n",
      "\n",
      " [[ 72.59138887 114.03114933]\n",
      "  [114.03114933 188.03678761]]]\n",
      "[[  2.072345  -3.24169 ]\n",
      " [ 17.93671   15.78481 ]\n",
      " [  1.083576   7.319176]\n",
      " [ 11.12067   14.40678 ]\n",
      " [ 23.71155    2.557729]\n",
      " [ 24.16993   32.02478 ]\n",
      " [ 21.66578    4.892855]\n",
      " [  4.693684  12.34217 ]\n",
      " [ 19.21191   -1.12137 ]\n",
      " [  4.230391  -4.44154 ]\n",
      " [  9.12713   23.60572 ]\n",
      " [  0.407503  15.29705 ]\n",
      " [  7.314846   3.309312]\n",
      " [ -3.4384   -12.0253  ]\n",
      " [ 17.63935   -3.21235 ]\n",
      " [  4.415292  22.81555 ]\n",
      " [ 11.94122    8.122487]\n",
      " [  0.725853   1.806819]\n",
      " [  8.815273  28.1326  ]\n",
      " [ -5.77359    1.0248  ]\n",
      " [ 18.76943   24.16946 ]]\n"
     ]
    }
   ],
   "source": [
    "gmm = GaussianMixture(n_components=3)\n",
    "gmm.fit(X)\n",
    "em_predictions = gmm.predict(X)\n",
    "print(\"\\nEM predictions\")\n",
    "print(em_predictions)\n",
    "print(\"mean:\\n\",gmm.means_)\n",
    "print('\\n')\n",
    "print(\"Covariances\\n\",gmm.covariances_)\n",
    "print(X)"
   ]
  },
  {
   "cell_type": "code",
   "execution_count": 6,
   "id": "1e1f45b1",
   "metadata": {},
   "outputs": [
    {
     "data": {
      "image/png": "[encoded data removed]",
      "text/plain": [
       "<Figure size 432x288 with 1 Axes>"
      ]
     },
     "metadata": {
      "needs_background": "light"
     },
     "output_type": "display_data"
    }
   ],
   "source": [
    "plt.title('Exceptation Maximum')\n",
    "plt.scatter(X[:,0], X[:,1],c=em_predictions,s=50)\n",
    "plt.show()"
   ]
  },
  {
   "cell_type": "code",
   "execution_count": 7,
   "id": "905e1562",
   "metadata": {},
   "outputs": [
    {
     "name": "stdout",
     "output_type": "stream",
     "text": [
      "[[11.05062467 20.95321333]\n",
      " [18.833962    2.2478702 ]\n",
      " [ 0.88786014 -0.89263186]]\n",
      "[2 0 2 0 1 0 1 0 1 2 0 0 2 2 1 0 1 2 0 2 0]\n"
     ]
    },
    {
     "data": {
      "text/plain": [
       "<matplotlib.collections.PathCollection at 0x1a2e020f9a0>"
      ]
     },
     "execution_count": 7,
     "metadata": {},
     "output_type": "execute_result"
    },
    {
     "data": {
      "image/png": "[encoded data removed]",
      "text/plain": [
       "<Figure size 432x288 with 1 Axes>"
      ]
     },
     "metadata": {
      "needs_background": "light"
     },
     "output_type": "display_data"
    }
   ],
   "source": [
    "import matplotlib.pyplot as plt1\n",
    "kmeans = KMeans(n_clusters=3)\n",
    "kmeans.fit(X)\n",
    "print(kmeans.cluster_centers_)\n",
    "print(kmeans.labels_)\n",
    "plt.title('KMEANS')\n",
    "plt1.scatter(X[:,0], X[:,1], c=kmeans.labels_, cmap='rainbow')\n",
    "plt1.scatter(kmeans.cluster_centers_[:,0] ,kmeans.cluster_centers_[:,1],\n",
    "color='black')"
   ]
  }
 ],
 "metadata": {
  "kernelspec": {
   "display_name": "Python 3",
   "language": "python",
   "name": "python3"
  },
  "language_info": {
   "codemirror_mode": {
    "name": "ipython",
    "version": 3
   },
   "file_extension": ".py",
   "mimetype": "text/x-python",
   "name": "python",
   "nbconvert_exporter": "python",
   "pygments_lexer": "ipython3",
   "version": "3.8.8"
  }
 },
 "nbformat": 4,
 "nbformat_minor": 5
}
