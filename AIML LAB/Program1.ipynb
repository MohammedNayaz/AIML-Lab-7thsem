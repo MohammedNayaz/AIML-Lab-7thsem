{
 "cells": [
  {
   "cell_type": "markdown",
   "id": "8d28b479",
   "metadata": {},
   "source": [
    "# CANDIDATE-ELIMINATION ALGORITHM"
   ]
  },
  {
   "cell_type": "code",
   "execution_count": 3,
   "id": "aeabe538",
   "metadata": {},
   "outputs": [],
   "source": [
    "import pandas as pd"
   ]
  },
  {
   "cell_type": "code",
   "execution_count": 4,
   "id": "91249121",
   "metadata": {},
   "outputs": [
    {
     "name": "stdout",
     "output_type": "stream",
     "text": [
      "Specific:-\n",
      " ['sunny' 'warm' '???' 'strong' '???' '???']\n",
      "General\n",
      "['sunny', '???', '???', '???', '???', '???']\n",
      "['???', 'warm', '???', '???', '???', '???']\n"
     ]
    }
   ],
   "source": [
    "df=pd.read_csv(\"program1.csv\")\n",
    "spe_df=df.loc[df[\"enjoysport\"].str.upper()==\"YES\"]\n",
    "gene_df=df.loc[df[\"enjoysport\"].str.upper()==\"NO\"]\n",
    "spe_df=spe_df.iloc[:,:-1]\n",
    "gene_df=gene_df.iloc[:,:-1]\n",
    "base=spe_df.iloc[0]\n",
    "for x in range(1,len(spe_df)):\n",
    "    base=base.where(spe_df.iloc[x]==base,other=\"???\")\n",
    "print(\"Specific:-\\n\",base.values)\n",
    "for x in range(len(gene_df)):\n",
    "    base=base.where(base!=gene_df.iloc[x],other=\"???\")\n",
    "print(\"General\")\n",
    "for i,x in enumerate(base):\n",
    "    if x!=\"???\":\n",
    "        l=[\"???\"]*len(base)\n",
    "        l[i]=x\n",
    "        print(l)"
   ]
  }
 ],
 "metadata": {
  "kernelspec": {
   "display_name": "Python 3",
   "language": "python",
   "name": "python3"
  },
  "language_info": {
   "codemirror_mode": {
    "name": "ipython",
    "version": 3
   },
   "file_extension": ".py",
   "mimetype": "text/x-python",
   "name": "python",
   "nbconvert_exporter": "python",
   "pygments_lexer": "ipython3",
   "version": "3.8.8"
  }
 },
 "nbformat": 4,
 "nbformat_minor": 5
}
