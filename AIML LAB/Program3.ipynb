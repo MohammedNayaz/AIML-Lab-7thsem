{
 "cells": [
  {
   "cell_type": "markdown",
   "id": "21ebd9ce",
   "metadata": {},
   "source": [
    "# Backpropagation algorithm"
   ]
  },
  {
   "cell_type": "code",
   "execution_count": 1,
   "id": "435dcf0c",
   "metadata": {},
   "outputs": [],
   "source": [
    "import numpy as np\n",
    "x = np.array(([2,9],[1,5],[3,6]),dtype=float)\n",
    "y = np.array(([92],[86],[89]),dtype=float)\n",
    "x = x/np.amax(x,axis=0)\n",
    "y = y/100"
   ]
  },
  {
   "cell_type": "code",
   "execution_count": 2,
   "id": "7c5573d8",
   "metadata": {},
   "outputs": [],
   "source": [
    "def sigmoid (x):\n",
    "    return 1/(1 + np.exp(-x))\n",
    "def derivatives_sigmoid(x):\n",
    "    return x * (1 - x)"
   ]
  },
  {
   "cell_type": "code",
   "execution_count": 3,
   "id": "283efdfc",
   "metadata": {},
   "outputs": [],
   "source": [
    "epoch=5000\n",
    "lr=0.1\n",
    "inputlayer_neurons = 2\n",
    "hiddenlayer_neurons = 3\n",
    "output_neurons = 1\n",
    "\n",
    "wh=np.random.uniform(size=(inputlayer_neurons,hiddenlayer_neurons))\n",
    "bh=np.random.uniform(size=(1,hiddenlayer_neurons))\n",
    "wout=np.random.uniform(size=(hiddenlayer_neurons,output_neurons))\n",
    "bout=np.random.uniform(size=(1,output_neurons))"
   ]
  },
  {
   "cell_type": "code",
   "execution_count": 4,
   "id": "1d22585a",
   "metadata": {},
   "outputs": [],
   "source": [
    "for i in range(epoch):\n",
    "    hinp1=np.dot(x,wh)\n",
    "hinp=hinp1 + bh\n",
    "hlayer_act = sigmoid(hinp)\n",
    "outinp1=np.dot(hlayer_act,wout)\n",
    "outinp= outinp1+ bout\n",
    "output = sigmoid(outinp)"
   ]
  },
  {
   "cell_type": "code",
   "execution_count": 5,
   "id": "b37401fd",
   "metadata": {},
   "outputs": [],
   "source": [
    "E0 = y-output\n",
    "outgrad =derivatives_sigmoid(output)\n",
    "d_output = E0* outgrad\n",
    "EH = d_output.dot(wout.T)\n",
    "hiddengrad = derivatives_sigmoid(hlayer_act)\n",
    "d_hiddenlayer = EH * hiddengrad\n",
    "wout += hlayer_act.T.dot(d_output) *lr\n",
    "wh += x.T.dot(d_hiddenlayer) *lr"
   ]
  },
  {
   "cell_type": "code",
   "execution_count": 6,
   "id": "d0e828a8",
   "metadata": {},
   "outputs": [
    {
     "name": "stdout",
     "output_type": "stream",
     "text": [
      "Input:\n",
      "[[0.66666667 1.        ]\n",
      " [0.33333333 0.55555556]\n",
      " [1.         0.66666667]]\n"
     ]
    }
   ],
   "source": [
    "print(\"Input:\\n\" + str(x))"
   ]
  },
  {
   "cell_type": "code",
   "execution_count": 7,
   "id": "f5374844",
   "metadata": {},
   "outputs": [
    {
     "name": "stdout",
     "output_type": "stream",
     "text": [
      "Actual Output: \n",
      "[[0.92]\n",
      " [0.86]\n",
      " [0.89]]\n"
     ]
    }
   ],
   "source": [
    "\n",
    "print(\"Actual Output: \\n\" + str(y))\n"
   ]
  },
  {
   "cell_type": "code",
   "execution_count": 8,
   "id": "2c508f36",
   "metadata": {},
   "outputs": [
    {
     "name": "stdout",
     "output_type": "stream",
     "text": [
      "PredictedOutput: \n",
      " [[0.8528972 ]\n",
      " [0.8434814 ]\n",
      " [0.85410258]]\n"
     ]
    }
   ],
   "source": [
    "print(\"PredictedOutput: \\n\",output)"
   ]
  }
 ],
 "metadata": {
  "kernelspec": {
   "display_name": "Python 3",
   "language": "python",
   "name": "python3"
  },
  "language_info": {
   "codemirror_mode": {
    "name": "ipython",
    "version": 3
   },
   "file_extension": ".py",
   "mimetype": "text/x-python",
   "name": "python",
   "nbconvert_exporter": "python",
   "pygments_lexer": "ipython3",
   "version": "3.8.8"
  }
 },
 "nbformat": 4,
 "nbformat_minor": 5
}
