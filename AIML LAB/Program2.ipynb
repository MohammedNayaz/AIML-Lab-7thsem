{
 "cells": [
  {
   "cell_type": "markdown",
   "id": "5ba77a46",
   "metadata": {},
   "source": [
    "# ID3 algorithm"
   ]
  },
  {
   "cell_type": "code",
   "execution_count": 1,
   "id": "f7333a4d",
   "metadata": {},
   "outputs": [],
   "source": [
    "import pandas as pd\n",
    "import numpy as np"
   ]
  },
  {
   "cell_type": "code",
   "execution_count": 6,
   "id": "45a7fdb9",
   "metadata": {},
   "outputs": [],
   "source": [
    "dataset=pd.read_csv('program2.csv',names=['outlook','temperature','humidity','wind','class',])\n",
    "attributes=('Outlook','Temperature','Humidity','Wind','PlayTennis')"
   ]
  },
  {
   "cell_type": "code",
   "execution_count": 7,
   "id": "0fe49fa1",
   "metadata": {},
   "outputs": [],
   "source": [
    "def entropy(target_col):\n",
    "    elements,counts=np.unique(target_col,return_counts=True)\n",
    "    entropy=np.sum([(-counts[i]/np.sum(counts))*np.log2(counts[i]/np.sum(counts))\n",
    "        for i in range(len(elements))])\n",
    "    return entropy"
   ]
  },
  {
   "cell_type": "code",
   "execution_count": 9,
   "id": "6b489da8",
   "metadata": {},
   "outputs": [],
   "source": [
    "def InfoGain(data,split_attribute_name,target_name=\"class\"):\n",
    "    total_entropy=entropy(data[target_name])\n",
    "    vals,counts=np.unique(data[split_attribute_name],return_counts=True)\n",
    "    Weighted_entropy=np.sum([(counts[i]/np.sum(counts))*entropy(data.where(data[split_attribute_name]==vals[i]).dropna()[target_name]) for i in\n",
    "    range(len(vals))])\n",
    "    Information_Gain=total_entropy-Weighted_entropy\n",
    "    return Information_Gain"
   ]
  },
  {
   "cell_type": "code",
   "execution_count": 14,
   "id": "e51602e2",
   "metadata": {},
   "outputs": [],
   "source": [
    "def ID3(data,originaldata,features,target_attribute_name=\"class\",parent_node_class=None):\n",
    "    if len(np.unique(data[target_attribute_name]))<=1:\n",
    "        return np.unique(data[target_attribute_name])[0]\n",
    "    elif len(data)==0:\n",
    "        return\n",
    "        np.unique(originaldata[target_attribute_name])[np.argmax(np.unique(originaldata[target_attibute_name],return_counts=True)[1])]\n",
    "    elif len(features)==0:\n",
    "        return parent_node_class\n",
    "    else:\n",
    "        parent_node_class=np.unique(data[target_attribute_name])[np.argmax(np.unique(data[target_attribute_name],return_counts=True)[1])]\n",
    "        item_values=[InfoGain(data,feature,target_attribute_name) for feature\n",
    "        in features]\n",
    "        best_feature_index=np.argmax(item_values)\n",
    "        best_feature=features[best_feature_index]\n",
    "        tree={best_feature:{}}\n",
    "        features=[i for i in features if i!=best_feature]\n",
    "        for value in np.unique(data[best_feature]):\n",
    "            value=value\n",
    "            sub_data=data.where(data[best_feature]==value).dropna()\n",
    "            subtree=ID3(sub_data,dataset,features,target_attribute_name,parent_node_class)\n",
    "            tree[best_feature][value]=subtree\n",
    "    return(tree)"
   ]
  },
  {
   "cell_type": "code",
   "execution_count": 15,
   "id": "debbac1c",
   "metadata": {},
   "outputs": [],
   "source": [
    "def predict(query,tree,default=1):\n",
    "    for key in list(query.keys()):\n",
    "        if key in list(tree.keys()):\n",
    "            try:\n",
    "                result=tree[key][query[key]]\n",
    "            except:\n",
    "                return default\n",
    "            result=tree[key][query[key]]\n",
    "            if isinstance(result,dict):\n",
    "                return predict(query,result)\n",
    "            else:\n",
    "                return result"
   ]
  },
  {
   "cell_type": "code",
   "execution_count": 16,
   "id": "593c4f92",
   "metadata": {},
   "outputs": [],
   "source": [
    "def train_test_split(dataset):\n",
    "    training_data=dataset.iloc[:14].reset_index(drop=True)\n",
    "    return training_data"
   ]
  },
  {
   "cell_type": "code",
   "execution_count": 17,
   "id": "54a850c1",
   "metadata": {},
   "outputs": [
    {
     "name": "stdout",
     "output_type": "stream",
     "text": [
      "\n",
      "Display Tree\n",
      " {'outlook': {'Outlook': 'PlayTennis', 'Overcast': 'Yes', 'Rain': {'wind': {'Strong': 'No', 'Weak': 'Yes'}}, 'Sunny': {'humidity': {'High': 'No', 'Normal': 'Yes'}}}}\n",
      "len= 14\n",
      "The predicted accuracy is: 100.0 %\n"
     ]
    }
   ],
   "source": [
    "def test(data,tree):\n",
    "    queries=data.iloc[:,:-1].to_dict(orient=\"records\")\n",
    "    predicted=pd.DataFrame(columns=[\"predicted\"])\n",
    "    for i in range(len(data)):\n",
    "        predicted.loc[i,\"predicted\"]=predict(queries[i],tree,1.0)\n",
    "    print('The predicted accuracy is:',(np.sum(predicted[\"predicted\"]==data[\"class\"])/len(data))*100,'%')\n",
    "          \n",
    "XX=train_test_split(dataset)\n",
    "training_data=XX\n",
    "tree=ID3(training_data,training_data,training_data.columns[:-1])\n",
    "print('\\nDisplay Tree\\n',tree)\n",
    "print('len=',len(training_data))\n",
    "test(training_data,tree)"
   ]
  }
 ],
 "metadata": {
  "kernelspec": {
   "display_name": "Python 3",
   "language": "python",
   "name": "python3"
  },
  "language_info": {
   "codemirror_mode": {
    "name": "ipython",
    "version": 3
   },
   "file_extension": ".py",
   "mimetype": "text/x-python",
   "name": "python",
   "nbconvert_exporter": "python",
   "pygments_lexer": "ipython3",
   "version": "3.8.8"
  }
 },
 "nbformat": 4,
 "nbformat_minor": 5
}
