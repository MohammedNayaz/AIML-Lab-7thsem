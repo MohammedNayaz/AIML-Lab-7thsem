{
 "cells": [
  {
   "cell_type": "markdown",
   "id": "513f0ae1",
   "metadata": {},
   "source": [
    "# naïve Bayesian classifier"
   ]
  },
  {
   "cell_type": "code",
   "execution_count": 1,
   "id": "1d12b51a",
   "metadata": {},
   "outputs": [],
   "source": [
    "import pandas as pd\n",
    "from sklearn import tree\n",
    "from sklearn.preprocessing import LabelEncoder\n",
    "from sklearn.naive_bayes import GaussianNB"
   ]
  },
  {
   "cell_type": "code",
   "execution_count": 4,
   "id": "979e7747",
   "metadata": {},
   "outputs": [
    {
     "name": "stdout",
     "output_type": "stream",
     "text": [
      "The first 5 values of data is :\n",
      "     Outlook Temperature Humidity   Windy PlayTennis\n",
      "0     Sunny         Hot     High    Weak         No\n",
      "1     Sunny         Hot     High  Strong         No\n",
      "2  Overcast         Hot     High    Weak        Yes\n",
      "3      Rain        Mild     High    Weak        Yes\n",
      "4      Rain        Cool   Normal    Weak        Yes\n"
     ]
    }
   ],
   "source": [
    "data = pd.read_csv('program4.csv')\n",
    "print(\"The first 5 values of data is :\\n\",data.head())"
   ]
  },
  {
   "cell_type": "code",
   "execution_count": 5,
   "id": "f5743f23",
   "metadata": {},
   "outputs": [
    {
     "name": "stdout",
     "output_type": "stream",
     "text": [
      "\n",
      "The first 5 values of train data is\n",
      "     Outlook Temperature Humidity   Windy\n",
      "0     Sunny         Hot     High    Weak\n",
      "1     Sunny         Hot     High  Strong\n",
      "2  Overcast         Hot     High    Weak\n",
      "3      Rain        Mild     High    Weak\n",
      "4      Rain        Cool   Normal    Weak\n"
     ]
    }
   ],
   "source": [
    "x = data.iloc[:,:-1]\n",
    "print(\"\\nThe first 5 values of train data is\\n\",x.head())"
   ]
  },
  {
   "cell_type": "code",
   "execution_count": 6,
   "id": "6e560b84",
   "metadata": {},
   "outputs": [
    {
     "name": "stdout",
     "output_type": "stream",
     "text": [
      "\n",
      "The first 5 values of train output is\n",
      " 0     No\n",
      "1     No\n",
      "2    Yes\n",
      "3    Yes\n",
      "4    Yes\n",
      "Name: PlayTennis, dtype: object\n"
     ]
    }
   ],
   "source": [
    "y = data.iloc[:,-1]\n",
    "print(\"\\nThe first 5 values of train output is\\n\",y.head())"
   ]
  },
  {
   "cell_type": "code",
   "execution_count": 8,
   "id": "32ecf5b6",
   "metadata": {},
   "outputs": [
    {
     "name": "stdout",
     "output_type": "stream",
     "text": [
      "\n",
      "Now the train data is :\n",
      "    Outlook  Temperature  Humidity  Windy\n",
      "0        2            1         0      1\n",
      "1        2            1         0      0\n",
      "2        0            1         0      1\n",
      "3        1            2         0      1\n",
      "4        1            0         1      1\n"
     ]
    }
   ],
   "source": [
    "le_Outlook = LabelEncoder()\n",
    "x.Outlook = le_Outlook.fit_transform(x.Outlook)\n",
    "\n",
    "le_Temperature=LabelEncoder()\n",
    "x.Temperature=le_Temperature.fit_transform(x.Temperature)\n",
    "\n",
    "le_Humidity=LabelEncoder()\n",
    "x.Humidity=le_Humidity.fit_transform(x.Humidity)\n",
    "\n",
    "le_Windy=LabelEncoder()\n",
    "x.Windy=le_Windy.fit_transform(x.Windy)\n",
    "\n",
    "print(\"\\nNow the train data is :\\n\",x.head())"
   ]
  },
  {
   "cell_type": "code",
   "execution_count": 9,
   "id": "4314f4ad",
   "metadata": {},
   "outputs": [
    {
     "name": "stdout",
     "output_type": "stream",
     "text": [
      "\n",
      "Now the train output is \n",
      " [0 0 1 1 1 0 1 0 1 1 1 1 2]\n"
     ]
    }
   ],
   "source": [
    "le_PlayTennis=LabelEncoder()\n",
    "y=le_PlayTennis.fit_transform(y)\n",
    "print(\"\\nNow the train output is \\n\",y)"
   ]
  },
  {
   "cell_type": "code",
   "execution_count": 10,
   "id": "b1ab53b2",
   "metadata": {},
   "outputs": [
    {
     "name": "stdout",
     "output_type": "stream",
     "text": [
      "Accuracy is: 0.3333333333333333\n"
     ]
    }
   ],
   "source": [
    "from sklearn.model_selection import train_test_split\n",
    "x_train,x_test,y_train,y_test=train_test_split(x,y,test_size=0.20)\n",
    "\n",
    "classifier=GaussianNB()\n",
    "classifier.fit(x_train,y_train)\n",
    "\n",
    "from sklearn.metrics import accuracy_score\n",
    "print(\"Accuracy is:\",accuracy_score(classifier.predict(x_test),y_test))"
   ]
  }
 ],
 "metadata": {
  "kernelspec": {
   "display_name": "Python 3",
   "language": "python",
   "name": "python3"
  },
  "language_info": {
   "codemirror_mode": {
    "name": "ipython",
    "version": 3
   },
   "file_extension": ".py",
   "mimetype": "text/x-python",
   "name": "python",
   "nbconvert_exporter": "python",
   "pygments_lexer": "ipython3",
   "version": "3.8.8"
  }
 },
 "nbformat": 4,
 "nbformat_minor": 5
}
